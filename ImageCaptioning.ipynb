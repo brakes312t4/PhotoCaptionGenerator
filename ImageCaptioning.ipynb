{
  "nbformat": 4,
  "nbformat_minor": 0,
  "metadata": {
    "colab": {
      "name": "ImageCaptioning.ipynb",
      "provenance": [],
      "collapsed_sections": [],
      "machine_shape": "hm"
    },
    "kernelspec": {
      "name": "python3",
      "display_name": "Python 3"
    },
    "widgets": {
      "application/vnd.jupyter.widget-state+json": {
        "bc3c4c27877046fe832d8d650f3a666a": {
          "model_module": "@jupyter-widgets/controls",
          "model_name": "HBoxModel",
          "state": {
            "_view_name": "HBoxView",
            "_dom_classes": [],
            "_model_name": "HBoxModel",
            "_view_module": "@jupyter-widgets/controls",
            "_model_module_version": "1.5.0",
            "_view_count": null,
            "_view_module_version": "1.5.0",
            "box_style": "",
            "layout": "IPY_MODEL_f0093a6f84084caa92fa85e4439cf809",
            "_model_module": "@jupyter-widgets/controls",
            "children": [
              "IPY_MODEL_09758bd490734033ba05a39ebd642141",
              "IPY_MODEL_cc0d70ede1414a0abb7485c18e35429c"
            ]
          }
        },
        "f0093a6f84084caa92fa85e4439cf809": {
          "model_module": "@jupyter-widgets/base",
          "model_name": "LayoutModel",
          "state": {
            "_view_name": "LayoutView",
            "grid_template_rows": null,
            "right": null,
            "justify_content": null,
            "_view_module": "@jupyter-widgets/base",
            "overflow": null,
            "_model_module_version": "1.2.0",
            "_view_count": null,
            "flex_flow": null,
            "width": null,
            "min_width": null,
            "border": null,
            "align_items": null,
            "bottom": null,
            "_model_module": "@jupyter-widgets/base",
            "top": null,
            "grid_column": null,
            "overflow_y": null,
            "overflow_x": null,
            "grid_auto_flow": null,
            "grid_area": null,
            "grid_template_columns": null,
            "flex": null,
            "_model_name": "LayoutModel",
            "justify_items": null,
            "grid_row": null,
            "max_height": null,
            "align_content": null,
            "visibility": null,
            "align_self": null,
            "height": null,
            "min_height": null,
            "padding": null,
            "grid_auto_rows": null,
            "grid_gap": null,
            "max_width": null,
            "order": null,
            "_view_module_version": "1.2.0",
            "grid_template_areas": null,
            "object_position": null,
            "object_fit": null,
            "grid_auto_columns": null,
            "margin": null,
            "display": null,
            "left": null
          }
        },
        "09758bd490734033ba05a39ebd642141": {
          "model_module": "@jupyter-widgets/controls",
          "model_name": "FloatProgressModel",
          "state": {
            "_view_name": "ProgressView",
            "style": "IPY_MODEL_09779b10296d4e15982282c3be3c0eb5",
            "_dom_classes": [],
            "description": "100%",
            "_model_name": "FloatProgressModel",
            "bar_style": "success",
            "max": 553433881,
            "_view_module": "@jupyter-widgets/controls",
            "_model_module_version": "1.5.0",
            "value": 553433881,
            "_view_count": null,
            "_view_module_version": "1.5.0",
            "orientation": "horizontal",
            "min": 0,
            "description_tooltip": null,
            "_model_module": "@jupyter-widgets/controls",
            "layout": "IPY_MODEL_85fed754a3714ca4953bd922730fb1fe"
          }
        },
        "cc0d70ede1414a0abb7485c18e35429c": {
          "model_module": "@jupyter-widgets/controls",
          "model_name": "HTMLModel",
          "state": {
            "_view_name": "HTMLView",
            "style": "IPY_MODEL_1e1b5c9274364b199a6363e624c256ba",
            "_dom_classes": [],
            "description": "",
            "_model_name": "HTMLModel",
            "placeholder": "​",
            "_view_module": "@jupyter-widgets/controls",
            "_model_module_version": "1.5.0",
            "value": " 528M/528M [00:57&lt;00:00, 9.65MB/s]",
            "_view_count": null,
            "_view_module_version": "1.5.0",
            "description_tooltip": null,
            "_model_module": "@jupyter-widgets/controls",
            "layout": "IPY_MODEL_c20c60710f7641848e37bd1718c09dd3"
          }
        },
        "09779b10296d4e15982282c3be3c0eb5": {
          "model_module": "@jupyter-widgets/controls",
          "model_name": "ProgressStyleModel",
          "state": {
            "_view_name": "StyleView",
            "_model_name": "ProgressStyleModel",
            "description_width": "initial",
            "_view_module": "@jupyter-widgets/base",
            "_model_module_version": "1.5.0",
            "_view_count": null,
            "_view_module_version": "1.2.0",
            "bar_color": null,
            "_model_module": "@jupyter-widgets/controls"
          }
        },
        "85fed754a3714ca4953bd922730fb1fe": {
          "model_module": "@jupyter-widgets/base",
          "model_name": "LayoutModel",
          "state": {
            "_view_name": "LayoutView",
            "grid_template_rows": null,
            "right": null,
            "justify_content": null,
            "_view_module": "@jupyter-widgets/base",
            "overflow": null,
            "_model_module_version": "1.2.0",
            "_view_count": null,
            "flex_flow": null,
            "width": null,
            "min_width": null,
            "border": null,
            "align_items": null,
            "bottom": null,
            "_model_module": "@jupyter-widgets/base",
            "top": null,
            "grid_column": null,
            "overflow_y": null,
            "overflow_x": null,
            "grid_auto_flow": null,
            "grid_area": null,
            "grid_template_columns": null,
            "flex": null,
            "_model_name": "LayoutModel",
            "justify_items": null,
            "grid_row": null,
            "max_height": null,
            "align_content": null,
            "visibility": null,
            "align_self": null,
            "height": null,
            "min_height": null,
            "padding": null,
            "grid_auto_rows": null,
            "grid_gap": null,
            "max_width": null,
            "order": null,
            "_view_module_version": "1.2.0",
            "grid_template_areas": null,
            "object_position": null,
            "object_fit": null,
            "grid_auto_columns": null,
            "margin": null,
            "display": null,
            "left": null
          }
        },
        "1e1b5c9274364b199a6363e624c256ba": {
          "model_module": "@jupyter-widgets/controls",
          "model_name": "DescriptionStyleModel",
          "state": {
            "_view_name": "StyleView",
            "_model_name": "DescriptionStyleModel",
            "description_width": "",
            "_view_module": "@jupyter-widgets/base",
            "_model_module_version": "1.5.0",
            "_view_count": null,
            "_view_module_version": "1.2.0",
            "_model_module": "@jupyter-widgets/controls"
          }
        },
        "c20c60710f7641848e37bd1718c09dd3": {
          "model_module": "@jupyter-widgets/base",
          "model_name": "LayoutModel",
          "state": {
            "_view_name": "LayoutView",
            "grid_template_rows": null,
            "right": null,
            "justify_content": null,
            "_view_module": "@jupyter-widgets/base",
            "overflow": null,
            "_model_module_version": "1.2.0",
            "_view_count": null,
            "flex_flow": null,
            "width": null,
            "min_width": null,
            "border": null,
            "align_items": null,
            "bottom": null,
            "_model_module": "@jupyter-widgets/base",
            "top": null,
            "grid_column": null,
            "overflow_y": null,
            "overflow_x": null,
            "grid_auto_flow": null,
            "grid_area": null,
            "grid_template_columns": null,
            "flex": null,
            "_model_name": "LayoutModel",
            "justify_items": null,
            "grid_row": null,
            "max_height": null,
            "align_content": null,
            "visibility": null,
            "align_self": null,
            "height": null,
            "min_height": null,
            "padding": null,
            "grid_auto_rows": null,
            "grid_gap": null,
            "max_width": null,
            "order": null,
            "_view_module_version": "1.2.0",
            "grid_template_areas": null,
            "object_position": null,
            "object_fit": null,
            "grid_auto_columns": null,
            "margin": null,
            "display": null,
            "left": null
          }
        }
      }
    }
  },
  "cells": [
    {
      "cell_type": "markdown",
      "metadata": {
        "id": "zS6fbZ7-pMCC",
        "colab_type": "text"
      },
      "source": [
        "[How to Develop a Deep Learning Photo Caption Generator from Scratch](https://machinelearningmastery.com/develop-a-deep-learning-caption-generation-model-in-python/)"
      ]
    },
    {
      "cell_type": "markdown",
      "metadata": {
        "id": "T1orlh0raG2c",
        "colab_type": "text"
      },
      "source": [
        "Change paths according to your file organization throughout the notebook"
      ]
    },
    {
      "cell_type": "markdown",
      "metadata": {
        "id": "_OXfnGZXfdSN",
        "colab_type": "text"
      },
      "source": [
        "## Downloading Dataset"
      ]
    },
    {
      "cell_type": "code",
      "metadata": {
        "id": "JCC6L9cebEM6",
        "colab_type": "code",
        "colab": {}
      },
      "source": [
        "!wget https://github.com/jbrownlee/Datasets/releases/download/Flickr8k/Flickr8k_Dataset.zip ."
      ],
      "execution_count": null,
      "outputs": []
    },
    {
      "cell_type": "code",
      "metadata": {
        "id": "rF4ltHSmbsus",
        "colab_type": "code",
        "colab": {}
      },
      "source": [
        "!unzip Flickr8k_Dataset.zip"
      ],
      "execution_count": null,
      "outputs": []
    },
    {
      "cell_type": "code",
      "metadata": {
        "id": "SF0Dk1qLbatc",
        "colab_type": "code",
        "colab": {}
      },
      "source": [
        "!wget https://github.com/jbrownlee/Datasets/releases/download/Flickr8k/Flickr8k_text.zip ."
      ],
      "execution_count": null,
      "outputs": []
    },
    {
      "cell_type": "code",
      "metadata": {
        "id": "msddzMSocTPq",
        "colab_type": "code",
        "colab": {}
      },
      "source": [
        "!unzip Flickr8k_text.zip"
      ],
      "execution_count": null,
      "outputs": []
    },
    {
      "cell_type": "code",
      "metadata": {
        "id": "QyR6PjPoegnC",
        "colab_type": "code",
        "colab": {}
      },
      "source": [
        "!mkdir data && mv Flicker8k_Dataset data"
      ],
      "execution_count": null,
      "outputs": []
    },
    {
      "cell_type": "code",
      "metadata": {
        "id": "QnCAS3D5Ji68",
        "colab_type": "code",
        "colab": {}
      },
      "source": [
        "!mv /content/Flickr_8k.trainImages.txt /content/gdrive/My\\ Drive/Colab\\ Notebooks/PyTorch/ImageCaptioning"
      ],
      "execution_count": null,
      "outputs": []
    },
    {
      "cell_type": "code",
      "metadata": {
        "id": "3LFcEJQcKIqj",
        "colab_type": "code",
        "colab": {}
      },
      "source": [
        "!mv /content/Flickr_8k.devImages.txt /content/gdrive/My\\ Drive/Colab\\ Notebooks/PyTorch/ImageCaptioning"
      ],
      "execution_count": null,
      "outputs": []
    },
    {
      "cell_type": "code",
      "metadata": {
        "id": "zX4E9mHfKXEN",
        "colab_type": "code",
        "colab": {}
      },
      "source": [
        "!mv /content/Flickr_8k.testImages.txt /content/gdrive/My\\ Drive/Colab\\ Notebooks/PyTorch/ImageCaptioning"
      ],
      "execution_count": null,
      "outputs": []
    },
    {
      "cell_type": "markdown",
      "metadata": {
        "id": "lTyZNCGUfj1u",
        "colab_type": "text"
      },
      "source": [
        "## Import Libs"
      ]
    },
    {
      "cell_type": "code",
      "metadata": {
        "id": "OExY77PtjJtm",
        "colab_type": "code",
        "colab": {}
      },
      "source": [
        "from google.colab import drive\n",
        "drive.mount('/content/gdrive')"
      ],
      "execution_count": null,
      "outputs": []
    },
    {
      "cell_type": "code",
      "metadata": {
        "id": "XfyKKHL4fEUO",
        "colab_type": "code",
        "colab": {}
      },
      "source": [
        "import torch\n",
        "import torch.nn as nn\n",
        "from torch.utils.data import Dataset, DataLoader\n",
        "from torchvision import datasets, transforms\n",
        "import torchvision.models as models\n",
        "\n",
        "import os\n",
        "\n",
        "import numpy as np\n",
        "\n",
        "from IPython import display\n",
        "from PIL import Image\n",
        "\n",
        "%matplotlib inline\n",
        "import matplotlib.pyplot as plt\n",
        "\n",
        "import string\n",
        "\n",
        "from pickle import dump, load"
      ],
      "execution_count": null,
      "outputs": []
    },
    {
      "cell_type": "code",
      "metadata": {
        "id": "y88ZJzSBRj6L",
        "colab_type": "code",
        "colab": {}
      },
      "source": [
        "# You're lucky if you get a Tesla P100 rather than an older K80\n",
        "!nvidia-smi"
      ],
      "execution_count": null,
      "outputs": []
    },
    {
      "cell_type": "code",
      "metadata": {
        "id": "u6K1C04HRlNp",
        "colab_type": "code",
        "colab": {
          "base_uri": "https://localhost:8080/",
          "height": 34
        },
        "outputId": "b94be027-dbea-4c36-d8b2-61b8aab77da6"
      },
      "source": [
        "# Device configuration\n",
        "device = torch.device('cuda:0' if torch.cuda.is_available() else 'cpu')\n",
        "print(device)"
      ],
      "execution_count": null,
      "outputs": [
        {
          "output_type": "stream",
          "text": [
            "cpu\n"
          ],
          "name": "stdout"
        }
      ]
    },
    {
      "cell_type": "markdown",
      "metadata": {
        "id": "XHRy4T81Ulpi",
        "colab_type": "text"
      },
      "source": [
        "## Feature Extractor\n",
        "\n",
        "We will remove the last layer from the loaded VGG-16 model, as this is the model used to predict a classification for a photo. We are not interested in classifying images, but we are interested in the internal representation of the photo right before a classification is made. These are the “features” that the model has extracted from the photo. The image features are a 1-dimensional 4,096 element vector."
      ]
    },
    {
      "cell_type": "code",
      "metadata": {
        "id": "mGbtKYtQUpJe",
        "colab_type": "code",
        "colab": {
          "base_uri": "https://localhost:8080/",
          "height": 865,
          "referenced_widgets": [
            "bc3c4c27877046fe832d8d650f3a666a",
            "f0093a6f84084caa92fa85e4439cf809",
            "09758bd490734033ba05a39ebd642141",
            "cc0d70ede1414a0abb7485c18e35429c",
            "09779b10296d4e15982282c3be3c0eb5",
            "85fed754a3714ca4953bd922730fb1fe",
            "1e1b5c9274364b199a6363e624c256ba",
            "c20c60710f7641848e37bd1718c09dd3"
          ]
        },
        "outputId": "2ba5be1c-9dd3-4ab7-8e0f-b8758921ee68"
      },
      "source": [
        "# Load pretrained VGG16\n",
        "vgg16 = models.vgg16(pretrained=True)\n",
        "\n",
        "# Add a flatten layer before the classifier block and remove the last fully connected layer\n",
        "blocks = list(vgg16.children())\n",
        "blocks = list([blocks[0], blocks[1], nn.Flatten(), blocks[2][:-1]])\n",
        "vgg16 = nn.Sequential(*blocks)\n",
        "print(vgg16)"
      ],
      "execution_count": null,
      "outputs": [
        {
          "output_type": "stream",
          "text": [
            "Downloading: \"https://download.pytorch.org/models/vgg16-397923af.pth\" to /root/.cache/torch/hub/checkpoints/vgg16-397923af.pth\n"
          ],
          "name": "stderr"
        },
        {
          "output_type": "display_data",
          "data": {
            "application/vnd.jupyter.widget-view+json": {
              "model_id": "bc3c4c27877046fe832d8d650f3a666a",
              "version_minor": 0,
              "version_major": 2
            },
            "text/plain": [
              "HBox(children=(FloatProgress(value=0.0, max=553433881.0), HTML(value='')))"
            ]
          },
          "metadata": {
            "tags": []
          }
        },
        {
          "output_type": "stream",
          "text": [
            "\n",
            "Sequential(\n",
            "  (0): Sequential(\n",
            "    (0): Conv2d(3, 64, kernel_size=(3, 3), stride=(1, 1), padding=(1, 1))\n",
            "    (1): ReLU(inplace=True)\n",
            "    (2): Conv2d(64, 64, kernel_size=(3, 3), stride=(1, 1), padding=(1, 1))\n",
            "    (3): ReLU(inplace=True)\n",
            "    (4): MaxPool2d(kernel_size=2, stride=2, padding=0, dilation=1, ceil_mode=False)\n",
            "    (5): Conv2d(64, 128, kernel_size=(3, 3), stride=(1, 1), padding=(1, 1))\n",
            "    (6): ReLU(inplace=True)\n",
            "    (7): Conv2d(128, 128, kernel_size=(3, 3), stride=(1, 1), padding=(1, 1))\n",
            "    (8): ReLU(inplace=True)\n",
            "    (9): MaxPool2d(kernel_size=2, stride=2, padding=0, dilation=1, ceil_mode=False)\n",
            "    (10): Conv2d(128, 256, kernel_size=(3, 3), stride=(1, 1), padding=(1, 1))\n",
            "    (11): ReLU(inplace=True)\n",
            "    (12): Conv2d(256, 256, kernel_size=(3, 3), stride=(1, 1), padding=(1, 1))\n",
            "    (13): ReLU(inplace=True)\n",
            "    (14): Conv2d(256, 256, kernel_size=(3, 3), stride=(1, 1), padding=(1, 1))\n",
            "    (15): ReLU(inplace=True)\n",
            "    (16): MaxPool2d(kernel_size=2, stride=2, padding=0, dilation=1, ceil_mode=False)\n",
            "    (17): Conv2d(256, 512, kernel_size=(3, 3), stride=(1, 1), padding=(1, 1))\n",
            "    (18): ReLU(inplace=True)\n",
            "    (19): Conv2d(512, 512, kernel_size=(3, 3), stride=(1, 1), padding=(1, 1))\n",
            "    (20): ReLU(inplace=True)\n",
            "    (21): Conv2d(512, 512, kernel_size=(3, 3), stride=(1, 1), padding=(1, 1))\n",
            "    (22): ReLU(inplace=True)\n",
            "    (23): MaxPool2d(kernel_size=2, stride=2, padding=0, dilation=1, ceil_mode=False)\n",
            "    (24): Conv2d(512, 512, kernel_size=(3, 3), stride=(1, 1), padding=(1, 1))\n",
            "    (25): ReLU(inplace=True)\n",
            "    (26): Conv2d(512, 512, kernel_size=(3, 3), stride=(1, 1), padding=(1, 1))\n",
            "    (27): ReLU(inplace=True)\n",
            "    (28): Conv2d(512, 512, kernel_size=(3, 3), stride=(1, 1), padding=(1, 1))\n",
            "    (29): ReLU(inplace=True)\n",
            "    (30): MaxPool2d(kernel_size=2, stride=2, padding=0, dilation=1, ceil_mode=False)\n",
            "  )\n",
            "  (1): AdaptiveAvgPool2d(output_size=(7, 7))\n",
            "  (2): Flatten()\n",
            "  (3): Sequential(\n",
            "    (0): Linear(in_features=25088, out_features=4096, bias=True)\n",
            "    (1): ReLU(inplace=True)\n",
            "    (2): Dropout(p=0.5, inplace=False)\n",
            "    (3): Linear(in_features=4096, out_features=4096, bias=True)\n",
            "    (4): ReLU(inplace=True)\n",
            "    (5): Dropout(p=0.5, inplace=False)\n",
            "  )\n",
            ")\n"
          ],
          "name": "stdout"
        }
      ]
    },
    {
      "cell_type": "code",
      "metadata": {
        "id": "BumUy6SudFzV",
        "colab_type": "code",
        "colab": {
          "base_uri": "https://localhost:8080/",
          "height": 34
        },
        "outputId": "3ea1ef64-c4d3-4cf9-f4a1-a6f5334c0e93"
      },
      "source": [
        "# Check the output shape\n",
        "vgg16(torch.rand((1, 3, 224, 224))).shape"
      ],
      "execution_count": null,
      "outputs": [
        {
          "output_type": "execute_result",
          "data": {
            "text/plain": [
              "torch.Size([1, 4096])"
            ]
          },
          "metadata": {
            "tags": []
          },
          "execution_count": 4
        }
      ]
    },
    {
      "cell_type": "code",
      "metadata": {
        "id": "rdNocUwLvWea",
        "colab_type": "code",
        "colab": {}
      },
      "source": [
        "def preprocess_image(image_name):\n",
        "  transform = transforms.Compose([\n",
        "            transforms.Resize(256),\n",
        "            transforms.CenterCrop(224),\n",
        "            transforms.ToTensor(), # automatic normalization of a PIL.Image to [0,1]\n",
        "            transforms.Normalize(mean=[0.485, 0.456, 0.406], std=[0.229, 0.224, 0.225]) # normalization according to official documentation\n",
        "  ])\n",
        "  image = Image.open(image_name)\n",
        "  image = transform(image).float()\n",
        "  image = image.unsqueeze(0) # models require [batch, channel, heigth, width]\n",
        "  return image\n",
        "\n",
        "def extract_features(directory):\n",
        "  # extract features from each photo\n",
        "  features = dict()\n",
        "  vgg16.eval()\n",
        "  with torch.no_grad():\n",
        "    for i, name in enumerate(os.listdir(directory)):\n",
        "      # load an image from file\n",
        "      filename = directory + '/' + name\n",
        "      image = preprocess_image(filename)\n",
        "      # get features\n",
        "      feature = vgg16(image)\n",
        "      # get image id\n",
        "      image_id = name.split('.')[0]\n",
        "      # store feature\n",
        "      features[image_id] = feature\n",
        "      print('>{}, {}'.format(i, name))\n",
        "    return features"
      ],
      "execution_count": null,
      "outputs": []
    },
    {
      "cell_type": "code",
      "metadata": {
        "id": "IUICZAZCIOkr",
        "colab_type": "code",
        "colab": {}
      },
      "source": [
        "# Extract features from all images\n",
        "features = extract_features('/content/data/Flicker8k_Dataset')\n",
        "print('Extracted Features: %d' % len(features))\n",
        "# Save to file\n",
        "dump(features, open('/content/features.pkl', 'wb'))"
      ],
      "execution_count": null,
      "outputs": []
    },
    {
      "cell_type": "code",
      "metadata": {
        "id": "7qMtKfMoi_9z",
        "colab_type": "code",
        "colab": {}
      },
      "source": [
        "!mv /content/features.pkl /content/gdrive/My\\ Drive/Colab\\ Notebooks/PyTorch/ImageCaptioning"
      ],
      "execution_count": null,
      "outputs": []
    },
    {
      "cell_type": "markdown",
      "metadata": {
        "id": "nC-GZQotFGef",
        "colab_type": "text"
      },
      "source": [
        "## Prepare Text Data"
      ]
    },
    {
      "cell_type": "code",
      "metadata": {
        "id": "03Dvv3hUFIA0",
        "colab_type": "code",
        "colab": {}
      },
      "source": [
        "# Load doc into memory\n",
        "def load_doc(filename):\n",
        "\t# open the file as read only\n",
        "\tfile = open(filename, 'r')\n",
        "\t# read all text\n",
        "\ttext = file.read()\n",
        "\t# close the file\n",
        "\tfile.close()\n",
        "\treturn text\n",
        " \n",
        "filename = '/content/Flickr8k.token.txt'\n",
        "# Load descriptions\n",
        "doc = load_doc(filename)"
      ],
      "execution_count": null,
      "outputs": []
    },
    {
      "cell_type": "markdown",
      "metadata": {
        "id": "PC3j0TgBFgZU",
        "colab_type": "text"
      },
      "source": [
        "Each photo has a unique identifier. This identifier is used on the photo filename and in the text file of descriptions.\n",
        "\n",
        "Next, we will step through the list of photo descriptions. Below defines a function _load_descriptions()_ that, given the loaded document text, will return a dictionary of photo identifiers to descriptions. Each photo identifier maps to a list of one or more textual descriptions."
      ]
    },
    {
      "cell_type": "code",
      "metadata": {
        "id": "_yhCMrjnFp9j",
        "colab_type": "code",
        "colab": {
          "base_uri": "https://localhost:8080/",
          "height": 34
        },
        "outputId": "0cf03be4-9f9c-4a88-a4bd-fd6987008375"
      },
      "source": [
        "# Extract descriptions for images\n",
        "def load_descriptions(doc):\n",
        "\tmapping = dict()\n",
        "\t# process lines\n",
        "\tfor line in doc.split('\\n'):\n",
        "\t\t# split line by white space\n",
        "\t\ttokens = line.split()\n",
        "\t\tif len(line) < 2:\n",
        "\t\t\tcontinue\n",
        "\t\t# take the first token as the image id, the rest as the description\n",
        "\t\timage_id, image_desc = tokens[0], tokens[1:]\n",
        "\t\t# remove filename from image id\n",
        "\t\timage_id = image_id.split('.')[0]\n",
        "\t\t# convert description tokens back to string\n",
        "\t\timage_desc = ' '.join(image_desc)\n",
        "\t\t# create the list if needed\n",
        "\t\tif image_id not in mapping:\n",
        "\t\t\tmapping[image_id] = list()\n",
        "\t\t# store description\n",
        "\t\tmapping[image_id].append(image_desc)\n",
        "\treturn mapping\n",
        "\n",
        "# Parse descriptions\n",
        "descriptions = load_descriptions(doc)\n",
        "print('Loaded: %d ' % len(descriptions))"
      ],
      "execution_count": null,
      "outputs": [
        {
          "output_type": "stream",
          "text": [
            "Loaded: 8092 \n"
          ],
          "name": "stdout"
        }
      ]
    },
    {
      "cell_type": "markdown",
      "metadata": {
        "id": "kkzUqarpGNi9",
        "colab_type": "text"
      },
      "source": [
        "We will clean the text in the following ways in order to reduce the size of the vocabulary of words we will need to work with:\n",
        "\n",
        "<ul>\n",
        "<li>Convert all words to lowercase.</li>\n",
        "<li>Remove all punctuation.</li>\n",
        "<li>Remove all words that are one character or less in length (e.g. ‘a’).</li>\n",
        "<li>Remove all words with numbers in them.</li>\n",
        "</ul>"
      ]
    },
    {
      "cell_type": "code",
      "metadata": {
        "id": "IqS8OZ8BGtTw",
        "colab_type": "code",
        "colab": {}
      },
      "source": [
        "def clean_descriptions(descriptions):\n",
        "\t# prepare translation table for removing punctuation\n",
        "\ttable = str.maketrans('', '', string.punctuation)\n",
        "\tfor key, desc_list in descriptions.items():\n",
        "\t\tfor i in range(len(desc_list)):\n",
        "\t\t\tdesc = desc_list[i]\n",
        "\t\t\t# tokenize\n",
        "\t\t\tdesc = desc.split()\n",
        "\t\t\t# convert to lower case\n",
        "\t\t\tdesc = [word.lower() for word in desc]\n",
        "\t\t\t# remove punctuation from each token\n",
        "\t\t\tdesc = [w.translate(table) for w in desc]\n",
        "\t\t\t# remove hanging 's' and 'a'\n",
        "\t\t\tdesc = [word for word in desc if len(word)>1]\n",
        "\t\t\t# remove tokens with numbers in them\n",
        "\t\t\tdesc = [word for word in desc if word.isalpha()]\n",
        "\t\t\t# store as string\n",
        "\t\t\tdesc_list[i] =  ' '.join(desc)\n",
        "\n",
        "# Clean descriptions\n",
        "clean_descriptions(descriptions)"
      ],
      "execution_count": null,
      "outputs": []
    },
    {
      "cell_type": "markdown",
      "metadata": {
        "id": "wjrXV4dvHJdv",
        "colab_type": "text"
      },
      "source": [
        "Once cleaned, we can summarize the size of the vocabulary. For reference, we can transform the clean descriptions into a set and print its size to get an idea of the size of our dataset vocabulary."
      ]
    },
    {
      "cell_type": "code",
      "metadata": {
        "id": "FLOiKBqDHV3q",
        "colab_type": "code",
        "colab": {
          "base_uri": "https://localhost:8080/",
          "height": 34
        },
        "outputId": "13856e6f-cbd4-4cf2-9835-414e83ca8bf0"
      },
      "source": [
        "# Convert the loaded descriptions into a vocabulary of words\n",
        "def to_vocabulary(descriptions):\n",
        "\t# build a list of all description strings\n",
        "\tall_desc = set()\n",
        "\tfor key in descriptions.keys():\n",
        "\t\t[all_desc.update(d.split()) for d in descriptions[key]]\n",
        "\treturn all_desc\n",
        "\n",
        "# Summarize vocabulary\n",
        "vocabulary = to_vocabulary(descriptions)\n",
        "print('Vocabulary Size: %d' % len(vocabulary))"
      ],
      "execution_count": null,
      "outputs": [
        {
          "output_type": "stream",
          "text": [
            "Vocabulary Size: 8763\n"
          ],
          "name": "stdout"
        }
      ]
    },
    {
      "cell_type": "markdown",
      "metadata": {
        "id": "CLV9zFERHcQ6",
        "colab_type": "text"
      },
      "source": [
        "Finally, we can save the dictionary of image identifiers and descriptions to a new file named descriptions.txt, with one image identifier and description per line. Below defines the _save_descriptions()_ function that, given a dictionary containing the mapping of identifiers to descriptions and a filename, saves the mapping to file."
      ]
    },
    {
      "cell_type": "code",
      "metadata": {
        "id": "mPcuXIU_Hojy",
        "colab_type": "code",
        "colab": {}
      },
      "source": [
        "# Save descriptions to file, one per line\n",
        "def save_descriptions(descriptions, filename):\n",
        "\tlines = list()\n",
        "\tfor key, desc_list in descriptions.items():\n",
        "\t\tfor desc in desc_list:\n",
        "\t\t\tlines.append(key + ' ' + desc)\n",
        "\tdata = '\\n'.join(lines)\n",
        "\tfile = open(filename, 'w')\n",
        "\tfile.write(data)\n",
        "\tfile.close()\n",
        "\n",
        "save_descriptions(descriptions, '/content/descriptions.txt')"
      ],
      "execution_count": null,
      "outputs": []
    },
    {
      "cell_type": "code",
      "metadata": {
        "id": "eJuYwEeAkO0j",
        "colab_type": "code",
        "colab": {}
      },
      "source": [
        "mv /content/descriptions.txt /content/gdrive/My\\ Drive/Colab\\ Notebooks/PyTorch/ImageCaptioning"
      ],
      "execution_count": null,
      "outputs": []
    },
    {
      "cell_type": "markdown",
      "metadata": {
        "id": "-mcGb3IpIYcd",
        "colab_type": "text"
      },
      "source": [
        "## Develop Deep Learning Model"
      ]
    },
    {
      "cell_type": "markdown",
      "metadata": {
        "id": "lK890hg7IrPf",
        "colab_type": "text"
      },
      "source": [
        "### Loading Data\n",
        "\n",
        "The train and development dataset have been predefined in the _Flickr_8k.trainImages.txt_ and _Flickr_8k.devImages.txt_ files respectively, that both contain lists of photo file names. From these file names, we can extract the photo identifiers and use these identifiers to filter photos and descriptions for each set.\n",
        "\n",
        "The function _load_set()_ below will load a pre-defined set of identifiers given the train or development sets filename."
      ]
    },
    {
      "cell_type": "code",
      "metadata": {
        "id": "_iw_fTY1E2tG",
        "colab_type": "code",
        "colab": {}
      },
      "source": [
        "# Load doc into memory\n",
        "def load_doc(filename):\n",
        "\t# open the file as read only\n",
        "\tfile = open(filename, 'r')\n",
        "\t# read all text\n",
        "\ttext = file.read()\n",
        "\t# close the file\n",
        "\tfile.close()\n",
        "\treturn text\n",
        "\n",
        "# Load a pre-defined list of photo identifiers\n",
        "def load_set(filename):\n",
        "\tdoc = load_doc(filename)\n",
        "\tdataset = list()\n",
        "\t# process line by line\n",
        "\tfor line in doc.split('\\n'):\n",
        "\t\t# skip empty lines\n",
        "\t\tif len(line) < 1:\n",
        "\t\t\tcontinue\n",
        "\t\t# get the image identifier\n",
        "\t\tidentifier = line.split('.')[0]\n",
        "\t\tdataset.append(identifier)\n",
        "\treturn set(dataset)"
      ],
      "execution_count": null,
      "outputs": []
    },
    {
      "cell_type": "markdown",
      "metadata": {
        "id": "EqK5zOKsE7UP",
        "colab_type": "text"
      },
      "source": [
        "Below is the function _load_clean_descriptions()_ that loads the cleaned text descriptions from _descriptions.txt_ for a given set (train or validation) of identifiers and returns a dictionary of identifiers to lists of text descriptions.\n",
        "\n",
        "The model we will develop will generate a caption given a photo, and the caption will be generated one word at a time. The sequence of previously generated words will be provided as input. Therefore, we will need a first word to kick-off the generation process and a last word to signal the end of the caption.\n",
        "\n",
        "We will use the strings _startseq_ and _endseq_ for this purpose. These tokens are added to the loaded descriptions as they are loaded. It is important to do this now before we encode the text so that the tokens are also encoded correctly."
      ]
    },
    {
      "cell_type": "code",
      "metadata": {
        "id": "QfGpHkOhE6bZ",
        "colab_type": "code",
        "colab": {}
      },
      "source": [
        "# Load clean descriptions into memory\n",
        "def load_clean_descriptions(filename, dataset):\n",
        "\t# load document\n",
        "\tdoc = load_doc(filename)\n",
        "\tdescriptions = dict()\n",
        "\tfor line in doc.split('\\n'):\n",
        "\t\t# split line by white space\n",
        "\t\ttokens = line.split()\n",
        "\t\t# split id from description\n",
        "\t\timage_id, image_desc = tokens[0], tokens[1:]\n",
        "\t\t# skip images not in the set\n",
        "\t\tif image_id in dataset:\n",
        "\t\t\t# create list\n",
        "\t\t\tif image_id not in descriptions:\n",
        "\t\t\t\tdescriptions[image_id] = list()\n",
        "\t\t\t# wrap description in tokens\n",
        "\t\t\tdesc = 'startseq ' + ' '.join(image_desc) + ' endseq'\n",
        "\t\t\t# store\n",
        "\t\t\tdescriptions[image_id].append(desc)\n",
        "\treturn descriptions"
      ],
      "execution_count": null,
      "outputs": []
    },
    {
      "cell_type": "markdown",
      "metadata": {
        "id": "Sx2tFF3GHian",
        "colab_type": "text"
      },
      "source": [
        "Next, we can load the photo features for a given dataset.\n",
        "\n",
        "Below defines a function named _load_photo_features()_ that loads the entire set of photo descriptions, then returns the subset of interest for a given set of photo identifiers."
      ]
    },
    {
      "cell_type": "code",
      "metadata": {
        "id": "Q6od6eJbHn-z",
        "colab_type": "code",
        "colab": {}
      },
      "source": [
        "# Load photo features\n",
        "def load_photo_features(filename, dataset):\n",
        "\t# load all features\n",
        "\tall_features = load(open(filename, 'rb'))\n",
        "\t# filter features\n",
        "\tfeatures = {k: all_features[k] for k in dataset}\n",
        "\treturn features"
      ],
      "execution_count": null,
      "outputs": []
    },
    {
      "cell_type": "code",
      "metadata": {
        "id": "BCXQeW3mH3rz",
        "colab_type": "code",
        "colab": {
          "base_uri": "https://localhost:8080/",
          "height": 69
        },
        "outputId": "c74e512f-972d-4e58-8ace-e0807b3ad952"
      },
      "source": [
        "# load training dataset (6K)\n",
        "train = load_set('/content/gdrive/My Drive/Colab Notebooks/PyTorch/ImageCaptioning/Flickr_8k.trainImages.txt')\n",
        "print('Train Dataset: %d' % len(train))\n",
        "# descriptions\n",
        "train_descriptions = load_clean_descriptions('/content/gdrive/My Drive/Colab Notebooks/PyTorch/ImageCaptioning/descriptions.txt', train)\n",
        "print('Descriptions: train=%d' % len(train_descriptions))\n",
        "# photo features\n",
        "train_features = load_photo_features('/content/gdrive/My Drive/Colab Notebooks/PyTorch/ImageCaptioning/features.pkl', train)\n",
        "print('Photos: train=%d' % len(train_features))"
      ],
      "execution_count": null,
      "outputs": [
        {
          "output_type": "stream",
          "text": [
            "Train Dataset: 6000\n",
            "Descriptions: train=6000\n",
            "Photos: train=6000\n"
          ],
          "name": "stdout"
        }
      ]
    },
    {
      "cell_type": "markdown",
      "metadata": {
        "id": "DOfotbH_MDt5",
        "colab_type": "text"
      },
      "source": [
        "The description text will need to be encoded to numbers before it can be presented to the model as in input or compared to the model’s predictions.\n",
        "\n",
        "The first step in encoding the data is to create a consistent mapping from words to unique integer values. Keras provides the _Tokenizer_ class that can learn this mapping from the loaded description data.\n",
        "\n",
        "Below defines the _to_lines()_ to convert the dictionary of descriptions into a list of strings and the create_tokenizer() function that will fit a Tokenizer given the loaded photo description text."
      ]
    },
    {
      "cell_type": "code",
      "metadata": {
        "id": "4lYgny4DRIEJ",
        "colab_type": "code",
        "colab": {}
      },
      "source": [
        "!pip install --upgrade tensorflow==2.0.0"
      ],
      "execution_count": null,
      "outputs": []
    },
    {
      "cell_type": "code",
      "metadata": {
        "id": "qFlrBFCRLWBP",
        "colab_type": "code",
        "colab": {
          "base_uri": "https://localhost:8080/",
          "height": 34
        },
        "outputId": "455191d6-446a-49ca-f8e0-7ca026d00a96"
      },
      "source": [
        "%tensorflow_version 2.x\n",
        "import tensorflow as tf\n",
        "from tensorflow.keras.preprocessing.text import Tokenizer\n",
        "from tensorflow.keras.preprocessing.sequence import pad_sequences\n",
        "from tensorflow.keras.utils import to_categorical\n",
        "\n",
        "# Convert a dictionary of clean descriptions to a list of descriptions\n",
        "def to_lines(descriptions):\n",
        "\tall_desc = list()\n",
        "\tfor key in descriptions.keys():\n",
        "\t\t[all_desc.append(d) for d in descriptions[key]]\n",
        "\treturn all_desc\n",
        "\n",
        "# Fit a tokenizer given caption descriptions\n",
        "def create_tokenizer(descriptions):\n",
        "\tlines = to_lines(descriptions)\n",
        "\ttokenizer = Tokenizer()\n",
        "\ttokenizer.fit_on_texts(lines)\n",
        "\treturn tokenizer\n",
        "\n",
        "# Prepare tokenizer\n",
        "tokenizer = create_tokenizer(train_descriptions)\n",
        "vocab_size = len(tokenizer.word_index) + 1\n",
        "print('Vocabulary Size: %d' % vocab_size)"
      ],
      "execution_count": null,
      "outputs": [
        {
          "output_type": "stream",
          "text": [
            "Vocabulary Size: 7579\n"
          ],
          "name": "stdout"
        }
      ]
    },
    {
      "cell_type": "markdown",
      "metadata": {
        "id": "CduEEjFnMrBM",
        "colab_type": "text"
      },
      "source": [
        "We can now encode the text.\n",
        "\n",
        "Each description will be split into words. The model will be provided one word and the photo and generate the next word. Then the first two words of the description will be provided to the model as input with the image to generate the next word. This is how the model will be trained.\n",
        "\n",
        "For example, the input sequence “little girl running in field” would be split into 6 input-output pairs to train the model:"
      ]
    },
    {
      "cell_type": "markdown",
      "metadata": {
        "id": "qHLGvw57LhS9",
        "colab_type": "text"
      },
      "source": [
        "```text\n",
        "X1,\t  X2 (text sequence), \t\t\t\t\t\t   y (word)\n",
        "\n",
        "photo\tstartseq, \t\t\t\t\t\t\t         little\n",
        "\n",
        "photo\tstartseq, little,\t\t\t\t\t\t\t  girl\n",
        "\n",
        "photo\tstartseq, little, girl, \t\t\t\t\t   running\n",
        "\n",
        "photo\tstartseq, little, girl, running, \t\t\t  in\n",
        "\n",
        "photo\tstartseq, little, girl, running, in, \t\t  field\n",
        "\n",
        "photo\tstartseq, little, girl, running, in, field,    endseq\n",
        "```"
      ]
    },
    {
      "cell_type": "markdown",
      "metadata": {
        "id": "NoF0O3ArM92X",
        "colab_type": "text"
      },
      "source": [
        "Later, when the model is used to generate descriptions, the generated words will be concatenated and recursively provided as input to generate a caption for an image.\n",
        "\n",
        "The function below named _create_sequences()_, given the tokenizer, a maximum sequence length, and the dictionary of all descriptions and photos, will transform the data into input-output pairs of data for training the model. There are two input arrays to the model: one for photo features and one for the encoded text. There is one output for the model which is the encoded next word in the text sequence.\n",
        "\n",
        "The input text is encoded as integers, which will be fed to a word embedding layer. The photo features will be fed directly to another part of the model. The model will output a prediction, which will be a probability distribution over all words in the vocabulary.\n",
        "\n",
        "The output data will therefore be a one-hot encoded version of each word, representing an idealized probability distribution with 0 values at all word positions except the actual word position, which has a value of 1."
      ]
    },
    {
      "cell_type": "code",
      "metadata": {
        "id": "FT8_thwaNbG-",
        "colab_type": "code",
        "colab": {
          "base_uri": "https://localhost:8080/",
          "height": 34
        },
        "outputId": "e01351f7-c895-4907-d74d-cd3a33776b62"
      },
      "source": [
        "# Calculate the length of the description with the most words\n",
        "def max_length(descriptions):\n",
        "\tlines = to_lines(descriptions)\n",
        "\treturn max(len(d.split()) for d in lines)\n",
        "\n",
        "max_length = max_length(train_descriptions)\n",
        "print('Description Length: %d' % max_length)\n",
        "\n",
        "# Create sequences of input sequences and output words for an image\n",
        "def create_sequences(tokenizer, max_length, descriptions, photos, vocab_size):\n",
        "\tX1, X2, y = list(), list(), list()\n",
        "\t# walk through each image identifier\n",
        "\tfor key, desc_list in list(descriptions.items()):\n",
        "\t\t# walk through each description for the image\n",
        "\t\tfor desc in desc_list:\n",
        "\t\t\t# encode the sequence\n",
        "\t\t\tseq = tokenizer.texts_to_sequences([desc])[0]\n",
        "\t\t\t# split one sequence into multiple X,y pairs\n",
        "\t\t\tfor i in range(1, len(seq)):\n",
        "\t\t\t\t# split into input and output pair\n",
        "\t\t\t\tin_seq, out_seq = seq[:i], seq[i]\n",
        "\t\t\t\t# pad input sequence\n",
        "\t\t\t\tin_seq = pad_sequences([in_seq], maxlen=max_length)[0]\n",
        "\t\t\t\t# store\n",
        "\t\t\t\tX1.append(key)\n",
        "\t\t\t\tX2.append(in_seq)\n",
        "\t\t\t\ty.append(out_seq)\n",
        "\treturn X1, torch.FloatTensor(X2), torch.FloatTensor(y)"
      ],
      "execution_count": null,
      "outputs": [
        {
          "output_type": "stream",
          "text": [
            "Description Length: 34\n"
          ],
          "name": "stdout"
        }
      ]
    },
    {
      "cell_type": "markdown",
      "metadata": {
        "id": "ud5Hz4dnOFnA",
        "colab_type": "text"
      },
      "source": [
        "We now have enough to load the data for the training and development datasets and transform the loaded data into input-output pairs for fitting a deep learning model."
      ]
    },
    {
      "cell_type": "code",
      "metadata": {
        "id": "TM0I8eGVd59-",
        "colab_type": "code",
        "colab": {}
      },
      "source": [
        "# Train dataset\n",
        "\n",
        "# prepare sequences\n",
        "X1_train, X2_train, y_train = create_sequences(tokenizer, max_length, train_descriptions, train_features, vocab_size)"
      ],
      "execution_count": null,
      "outputs": []
    },
    {
      "cell_type": "code",
      "metadata": {
        "id": "81UC8ZHEPLws",
        "colab_type": "code",
        "colab": {
          "base_uri": "https://localhost:8080/",
          "height": 69
        },
        "outputId": "6babe44e-16d1-4b48-8f52-3fadb9359ee6"
      },
      "source": [
        "# Validation dataset\n",
        "\n",
        "# load validation set\n",
        "val = load_set('/content/gdrive/My Drive/Colab Notebooks/PyTorch/ImageCaptioning/Flickr_8k.devImages.txt')\n",
        "print('Validation Dataset: %d' % len(val))\n",
        "# descriptions\n",
        "val_descriptions = load_clean_descriptions('/content/gdrive/My Drive/Colab Notebooks/PyTorch/ImageCaptioning/descriptions.txt', val)\n",
        "print('Descriptions: val=%d' % len(val_descriptions))\n",
        "# photo features\n",
        "val_features = load_photo_features('/content/gdrive/My Drive/Colab Notebooks/PyTorch/ImageCaptioning/features.pkl', val)\n",
        "print('Photos: test=%d' % len(val_features))\n",
        "# prepare sequences\n",
        "X1_val, X2_val, y_val = create_sequences(tokenizer, max_length, val_descriptions, val_features, vocab_size)"
      ],
      "execution_count": null,
      "outputs": [
        {
          "output_type": "stream",
          "text": [
            "Validation Dataset: 1000\n",
            "Descriptions: val=1000\n",
            "Photos: test=1000\n"
          ],
          "name": "stdout"
        }
      ]
    },
    {
      "cell_type": "markdown",
      "metadata": {
        "id": "eQpbsxSu4UuL",
        "colab_type": "text"
      },
      "source": [
        "### Defining Model"
      ]
    },
    {
      "cell_type": "markdown",
      "metadata": {
        "id": "yyYADtUcDos9",
        "colab_type": "text"
      },
      "source": [
        "![https://3qeqpr26caki16dnhd19sv6by6v-wpengine.netdna-ssl.com/wp-content/uploads/2017/09/Schematic-of-the-Merge-Model-For-Image-Captioning.png](https://3qeqpr26caki16dnhd19sv6by6v-wpengine.netdna-ssl.com/wp-content/uploads/2017/09/Schematic-of-the-Merge-Model-For-Image-Captioning.png)"
      ]
    },
    {
      "cell_type": "markdown",
      "metadata": {
        "id": "pXIWLjpcCWyW",
        "colab_type": "text"
      },
      "source": [
        "We will describe the model in three parts:\n",
        "\n",
        "<ul>\n",
        "<li>Photo Feature Extractor: This is a 16-layer VGG model pre-trained on the ImageNet dataset. We have pre-processed the photos with the VGG model (without the output layer) and will use the extracted features predicted by this model as input.</li>\n",
        "<li>Sequence Processor: This is a word embedding layer for handling the text input, followed by a Long Short-Term Memory (LSTM) recurrent neural network layer.</li>\n",
        "<li>Decoder: Both the feature extractor and sequence processor output a fixed-length vector. These are merged together and processed by a Dense layer to make a final prediction.</li>\n",
        "</ul>"
      ]
    },
    {
      "cell_type": "markdown",
      "metadata": {
        "id": "sPeOcq4rD0KA",
        "colab_type": "text"
      },
      "source": [
        "The Photo Feature Extractor model expects input photo features to be a vector of 4,096 elements. These are processed by a fully connected layer to produce a 256 element representation of the photo.\n",
        "\n",
        "The Sequence Processor model expects input sequences with a pre-defined length (34 words) which are fed into an Embedding layer that uses a mask to ignore padded values. This is followed by an LSTM layer with 256 memory units.\n",
        "\n",
        "Both the input models produce a 256 element vector. Further, both input models use regularization in the form of 50% dropout. This is to reduce overfitting the training dataset, as this model configuration learns very fast.\n",
        "\n",
        "The Decoder model merges the vectors from both input models using an addition operation. This is then fed to a fully connected 256 neuron layer and then to a final output fully connected layer that makes a softmax prediction over the entire output vocabulary for the next word in the sequence."
      ]
    },
    {
      "cell_type": "code",
      "metadata": {
        "id": "5Vzkj8L9L0xO",
        "colab_type": "code",
        "colab": {}
      },
      "source": [
        "n_epochs = 10\n",
        "batch_size = 32 # for training\n",
        "vocab_size = 7579"
      ],
      "execution_count": null,
      "outputs": []
    },
    {
      "cell_type": "code",
      "metadata": {
        "id": "J_bpuVQ2EYRi",
        "colab_type": "code",
        "colab": {}
      },
      "source": [
        "# Feature Extractor Model\n",
        "\n",
        "class PhotoFeatureExtractor(nn.Module):\n",
        "  def __init__(self):\n",
        "    super(PhotoFeatureExtractor, self).__init__()\n",
        "    self.dropout = nn.Dropout(p=0.5, inplace=True)\n",
        "    self.fc = nn.Sequential(\n",
        "        nn.Linear(4096, 256),\n",
        "        nn.ReLU(inplace=True)\n",
        "    )\n",
        "  def forward(self, x):\n",
        "    return self.fc(self.dropout(x))\n",
        "\n",
        "#pfe = PhotoFeatureExtractor().to(device)\n",
        "#print(pfe)"
      ],
      "execution_count": null,
      "outputs": []
    },
    {
      "cell_type": "code",
      "metadata": {
        "id": "6eQ_ElmMq1wg",
        "colab_type": "code",
        "colab": {}
      },
      "source": [
        "# Test the photo feature extractor on a random batch\n",
        "'''\n",
        "x = torch.randn(batch_size, 4096)\n",
        "out = pfe(x)\n",
        "print(out.shape)\n",
        "'''"
      ],
      "execution_count": null,
      "outputs": []
    },
    {
      "cell_type": "code",
      "metadata": {
        "id": "tygQOc9OHeTv",
        "colab_type": "code",
        "colab": {}
      },
      "source": [
        "# Sequence Processor Model\n",
        "\n",
        "class SequenceProcessor(nn.Module):\n",
        "\n",
        "  def __init__(self, vocab_size):\n",
        "    super(SequenceProcessor, self).__init__()\n",
        "    self.vocab_size = vocab_size\n",
        "    self.embedding = nn.Embedding(self.vocab_size, 256, padding_idx=0)\n",
        "    self.dropout = nn.Dropout(p=0.5, inplace=True)\n",
        "    self.lstm = nn.LSTM(256, 256, 1, batch_first=True)\n",
        "\n",
        "  def forward(self, x, hidden):\n",
        "    lstm_out, hidden = self.lstm(self.dropout(self.embedding(x.long())), hidden)\n",
        "    return lstm_out, hidden\n",
        "\n",
        "  def init_hidden(self, batch_size):\n",
        "    weight = next(self.parameters()).data\n",
        "    hidden = (weight.new(1, batch_size, 256).zero_().to(device),\n",
        "              weight.new(1, batch_size, 256).zero_().to(device))\n",
        "    return hidden\n",
        "\n",
        "#sp = SequenceProcessor(vocab_size).to(device)\n",
        "#print(sp)"
      ],
      "execution_count": null,
      "outputs": []
    },
    {
      "cell_type": "code",
      "metadata": {
        "id": "nfieIKzYL7L0",
        "colab_type": "code",
        "colab": {}
      },
      "source": [
        "# Test the sequence processor on a batch\n",
        "'''\n",
        "x = X2_train[:batch_size].long().to(device)\n",
        "h = sp.init_hidden(batch_size)\n",
        "out, hidden = sp(x, h)\n",
        "print(out.shape)\n",
        "print(hidden[0].shape, hidden[1].shape)\n",
        "print(out[:,-1,:].shape)\n",
        "'''"
      ],
      "execution_count": null,
      "outputs": []
    },
    {
      "cell_type": "code",
      "metadata": {
        "id": "HEU8fLWCpCpN",
        "colab_type": "code",
        "colab": {
          "base_uri": "https://localhost:8080/",
          "height": 347
        },
        "outputId": "ffdb75c7-02bc-4009-8ff2-df06a108370c"
      },
      "source": [
        "# Decoder Model\n",
        "\n",
        "class Decoder(nn.Module):\n",
        "\n",
        "  def __init__(self, vocab_size):\n",
        "    super(Decoder, self).__init__()\n",
        "    self.vocab_size = vocab_size\n",
        "    self.pfe = PhotoFeatureExtractor()\n",
        "    self.sp = SequenceProcessor(self.vocab_size)\n",
        "    self.fc1 = nn.Sequential(\n",
        "      nn.Linear(256, 256),\n",
        "      nn.ReLU(inplace=True)\n",
        "    )\n",
        "    self.fc2 = nn.Linear(256, self.vocab_size)\n",
        "\n",
        "\n",
        "  def forward(self, ph, desc):\n",
        "    h = self.sp.init_hidden(batch_size)\n",
        "    lstm_out, _ = self.sp(desc, h)\n",
        "    lstm_out = lstm_out[:,-1,:]\n",
        "    out = torch.add(self.pfe(ph), lstm_out)\n",
        "    out = self.fc1(out)\n",
        "    out = self.fc2(out)\n",
        "    return out\n",
        "\n",
        "model = Decoder(vocab_size).to(device)\n",
        "print(model)"
      ],
      "execution_count": null,
      "outputs": [
        {
          "output_type": "stream",
          "text": [
            "Decoder(\n",
            "  (pfe): PhotoFeatureExtractor(\n",
            "    (dropout): Dropout(p=0.5, inplace=True)\n",
            "    (fc): Sequential(\n",
            "      (0): Linear(in_features=4096, out_features=256, bias=True)\n",
            "      (1): ReLU(inplace=True)\n",
            "    )\n",
            "  )\n",
            "  (sp): SequenceProcessor(\n",
            "    (embedding): Embedding(7579, 256, padding_idx=0)\n",
            "    (dropout): Dropout(p=0.5, inplace=True)\n",
            "    (lstm): LSTM(256, 256, batch_first=True)\n",
            "  )\n",
            "  (fc1): Sequential(\n",
            "    (0): Linear(in_features=256, out_features=256, bias=True)\n",
            "    (1): ReLU(inplace=True)\n",
            "  )\n",
            "  (fc2): Linear(in_features=256, out_features=7579, bias=True)\n",
            ")\n"
          ],
          "name": "stdout"
        }
      ]
    },
    {
      "cell_type": "code",
      "metadata": {
        "id": "QGtS2NLFxNwc",
        "colab_type": "code",
        "colab": {
          "base_uri": "https://localhost:8080/",
          "height": 34
        },
        "outputId": "78f236db-b303-45b0-fd62-81466dcb3a50"
      },
      "source": [
        "# Test the sequence processor on a random batch\n",
        "ph = torch.randn(batch_size, 4096).to(device)\n",
        "desc = X2_train[:batch_size].long().to(device)\n",
        "out = model(ph, desc)\n",
        "print(out.shape)"
      ],
      "execution_count": null,
      "outputs": [
        {
          "output_type": "stream",
          "text": [
            "torch.Size([32, 7579])\n"
          ],
          "name": "stdout"
        }
      ]
    },
    {
      "cell_type": "markdown",
      "metadata": {
        "id": "2BGp4SbrJczd",
        "colab_type": "text"
      },
      "source": [
        "### Create Pytorch Dataset and Dataloader"
      ]
    },
    {
      "cell_type": "markdown",
      "metadata": {
        "colab_type": "text",
        "id": "Wl-XpjTCRtKh"
      },
      "source": [
        "#### Train set"
      ]
    },
    {
      "cell_type": "code",
      "metadata": {
        "colab_type": "code",
        "id": "qVkKhk9XRtKq",
        "colab": {}
      },
      "source": [
        "# Train set\n",
        "class TrainDataset(Dataset):\n",
        "  def __init__(self, X1_train, X2_train, y_train):\n",
        "    super(TrainDataset, self).__init__()\n",
        "    self.X1_train = X1_train\n",
        "    self.X2_train = X2_train\n",
        "    self.y_train = y_train\n",
        "\n",
        "  def __len__(self):\n",
        "    return len(self.X1_train)\n",
        "\n",
        "  def __getitem__(self, idx):\n",
        "    return self.X1_train[idx], self.X2_train[idx], self.y_train[idx]\n",
        "\n",
        "train_ds = TrainDataset(X1_train, X2_train, y_train)\n",
        "\n",
        "\n",
        "# Data loader\n",
        "train_loader = torch.utils.data.DataLoader(dataset=train_ds, batch_size=batch_size, shuffle=True, drop_last=True, pin_memory=True)"
      ],
      "execution_count": null,
      "outputs": []
    },
    {
      "cell_type": "code",
      "metadata": {
        "colab_type": "code",
        "id": "HEQ4Yk_oRtK3",
        "colab": {
          "base_uri": "https://localhost:8080/",
          "height": 69
        },
        "outputId": "5224f069-5a4d-4394-d954-f04bec319365"
      },
      "source": [
        "# Test data loader shapes\n",
        "for ph, desc, out in train_loader:\n",
        "    print(torch.cat([torch.reshape(train_features[elem][0], (1,-1)) for elem in ph], 0).shape) # merge all features into one tensor of shape (batch_size, 4096)\n",
        "    print(desc.shape)\n",
        "    print(out.shape)\n",
        "    break"
      ],
      "execution_count": null,
      "outputs": [
        {
          "output_type": "stream",
          "text": [
            "torch.Size([32, 4096])\n",
            "torch.Size([32, 34])\n",
            "torch.Size([32])\n"
          ],
          "name": "stdout"
        }
      ]
    },
    {
      "cell_type": "code",
      "metadata": {
        "colab_type": "code",
        "id": "q2ErGtvXRtLK",
        "colab": {
          "base_uri": "https://localhost:8080/",
          "height": 34
        },
        "outputId": "618a4e6f-6951-44d7-d794-925a0b7a8500"
      },
      "source": [
        "# Test the model with data loader\n",
        "for ph, desc, out in train_loader:\n",
        "    ph = torch.cat([torch.reshape(train_features[elem][0], (1,-1)) for elem in ph], 0)\n",
        "    print(model(ph, desc).shape)\n",
        "    break"
      ],
      "execution_count": null,
      "outputs": [
        {
          "output_type": "stream",
          "text": [
            "torch.Size([32, 7579])\n"
          ],
          "name": "stdout"
        }
      ]
    },
    {
      "cell_type": "markdown",
      "metadata": {
        "id": "GSEQm9nbRnK0",
        "colab_type": "text"
      },
      "source": [
        "#### Validation set"
      ]
    },
    {
      "cell_type": "code",
      "metadata": {
        "id": "IaWS_58zJm5i",
        "colab_type": "code",
        "colab": {}
      },
      "source": [
        "# Validation set\n",
        "class ValidationDataset(Dataset):\n",
        "  def __init__(self, X1_val, X2_val, y_val):\n",
        "    super(ValidationDataset, self).__init__()\n",
        "    self.X1_val = X1_val\n",
        "    self.X2_val = X2_val\n",
        "    self.y_val = y_val\n",
        "\n",
        "  def __len__(self):\n",
        "    return len(self.X1_val)\n",
        "\n",
        "  def __getitem__(self, idx):\n",
        "    return self.X1_val[idx], self.X2_val[idx], self.y_val[idx]\n",
        "\n",
        "val_ds = ValidationDataset(X1_val, X2_val, y_val)\n",
        "\n",
        "\n",
        "# Data loader\n",
        "val_loader = torch.utils.data.DataLoader(dataset=val_ds, batch_size=batch_size, shuffle=False, drop_last=True, pin_memory=True)"
      ],
      "execution_count": null,
      "outputs": []
    },
    {
      "cell_type": "code",
      "metadata": {
        "id": "aXW99seHLscX",
        "colab_type": "code",
        "colab": {
          "base_uri": "https://localhost:8080/",
          "height": 69
        },
        "outputId": "10f7fd74-961b-442c-a0c8-c95e8effd31a"
      },
      "source": [
        "# Test data loader shapes\n",
        "for ph, desc, out in val_loader:\n",
        "    print(torch.cat([torch.reshape(val_features[elem][0], (1,-1)) for elem in ph], 0).shape) # merge all features into one tensor of shape (batch_size, 4096)\n",
        "    print(desc.shape)\n",
        "    print(out.shape)\n",
        "    break"
      ],
      "execution_count": null,
      "outputs": [
        {
          "output_type": "stream",
          "text": [
            "torch.Size([32, 4096])\n",
            "torch.Size([32, 34])\n",
            "torch.Size([32])\n"
          ],
          "name": "stdout"
        }
      ]
    },
    {
      "cell_type": "code",
      "metadata": {
        "id": "RQ-CpN7KQHwV",
        "colab_type": "code",
        "colab": {
          "base_uri": "https://localhost:8080/",
          "height": 34
        },
        "outputId": "85a1653b-bc3e-4f62-991d-2c6cb699544e"
      },
      "source": [
        "# Test the model with data loader\n",
        "for ph, desc, out in val_loader:\n",
        "    ph = torch.cat([torch.reshape(val_features[elem][0], (1,-1)) for elem in ph], 0)\n",
        "    print(model(ph, desc).shape)\n",
        "    break"
      ],
      "execution_count": null,
      "outputs": [
        {
          "output_type": "stream",
          "text": [
            "torch.Size([32, 7579])\n"
          ],
          "name": "stdout"
        }
      ]
    },
    {
      "cell_type": "markdown",
      "metadata": {
        "id": "EuRsPN7BUM_N",
        "colab_type": "text"
      },
      "source": [
        "### Training Model"
      ]
    },
    {
      "cell_type": "code",
      "metadata": {
        "id": "2pmf6LuFWiy8",
        "colab_type": "code",
        "colab": {}
      },
      "source": [
        "lr = 2e-4\n",
        "criterion = nn.CrossEntropyLoss()\n",
        "optimizer = torch.optim.Adam(model.parameters(), lr=lr)"
      ],
      "execution_count": null,
      "outputs": []
    },
    {
      "cell_type": "code",
      "metadata": {
        "id": "2xiw1fSAUO5D",
        "colab_type": "code",
        "colab": {
          "base_uri": "https://localhost:8080/",
          "height": 1000
        },
        "outputId": "fb99d16d-dae4-4036-92a2-89c4a376497b"
      },
      "source": [
        "# Training\n",
        "\n",
        "import time\n",
        "\n",
        "model.train()\n",
        "\n",
        "valid_loss_min = np.Inf\n",
        "\n",
        "total_step = len(train_loader)\n",
        "for epoch in range(n_epochs):\n",
        "  start = time.time()\n",
        "  for i, (ph, desc, out) in enumerate(train_loader):\n",
        "    ph = torch.cat([torch.reshape(train_features[elem][0], (1,-1)) for elem in ph], 0)\n",
        "    ph, desc, out = ph.to(device), desc.to(device), out.to(device)\n",
        "    model.zero_grad()\n",
        "    pred = model(ph, desc)\n",
        "    loss = criterion(pred.float(), out.long())\n",
        "    loss.backward()\n",
        "    optimizer.step()\n",
        "\n",
        "    if (i+1) % 500 == 0:\n",
        "      print('Epoch [{}/{}], Step [{}/{}], Loss [{:.4f}]'.format(epoch+1, n_epochs, i+1, total_step, loss.item()))\n",
        "\n",
        "  print('Testing on validation set at the end of epoch {}'.format(epoch+1))\n",
        "  model.eval()\n",
        "  val_losses = []\n",
        "  for i, (ph, desc, out) in enumerate(val_loader):\n",
        "    ph = torch.cat([torch.reshape(val_features[elem][0], (1,-1)) for elem in ph], 0)\n",
        "    ph, desc, out = ph.to(device), desc.to(device), out.to(device)\n",
        "    pred = model(ph, desc)\n",
        "    val_loss = criterion(pred.float(), out.long())\n",
        "    val_losses.append(val_loss.item())\n",
        "  model.train()\n",
        "  print('Epoch: [{}/{}]...'.format(epoch+1, n_epochs), 'Val Loss: [{:.4f}]'.format(np.mean(val_losses)))\n",
        "\n",
        "  print ('Time for epoch {} is {:.2f} sec'.format(epoch + 1, time.time()-start))\n",
        "\n",
        "  if np.mean(val_losses) <= valid_loss_min:\n",
        "    # save model\n",
        "    torch.save(model.state_dict(), '/content/gdrive/My Drive/Colab Notebooks/PyTorch/ImageCaptioning/model.ckpt')\n",
        "    print('Validation loss decreased ({:.4f} --> {:.4f}).  Saving model...'.format(valid_loss_min, np.mean(val_losses)))\n",
        "    valid_loss_min = np.mean(val_losses)\n",
        "\n",
        "print ('Total training time is {:.2f} sec'.format(time.time()-start))"
      ],
      "execution_count": null,
      "outputs": [
        {
          "output_type": "stream",
          "text": [
            "Epoch [1/10], Step [500/9575], Loss [5.3499]\n",
            "Epoch [1/10], Step [1000/9575], Loss [4.4230]\n",
            "Epoch [1/10], Step [1500/9575], Loss [6.3397]\n",
            "Epoch [1/10], Step [2000/9575], Loss [4.6158]\n",
            "Epoch [1/10], Step [2500/9575], Loss [5.7483]\n",
            "Epoch [1/10], Step [3000/9575], Loss [5.0213]\n",
            "Epoch [1/10], Step [3500/9575], Loss [4.2397]\n",
            "Epoch [1/10], Step [4000/9575], Loss [3.2772]\n",
            "Epoch [1/10], Step [4500/9575], Loss [4.1024]\n",
            "Epoch [1/10], Step [5000/9575], Loss [3.7307]\n",
            "Epoch [1/10], Step [5500/9575], Loss [4.0382]\n",
            "Epoch [1/10], Step [6000/9575], Loss [3.9398]\n",
            "Epoch [1/10], Step [6500/9575], Loss [3.6618]\n",
            "Epoch [1/10], Step [7000/9575], Loss [3.5989]\n",
            "Epoch [1/10], Step [7500/9575], Loss [4.1451]\n",
            "Epoch [1/10], Step [8000/9575], Loss [4.3598]\n",
            "Epoch [1/10], Step [8500/9575], Loss [3.8061]\n",
            "Epoch [1/10], Step [9000/9575], Loss [4.1549]\n",
            "Epoch [1/10], Step [9500/9575], Loss [3.2254]\n",
            "Testing on validation set at the end of epoch 1\n",
            "Epoch: [1/10]... Val Loss: [3.9754]\n",
            "Time for epoch 1 is 61.83 sec\n",
            "Validation loss decreased (inf --> 3.9754).  Saving model ...\n",
            "Epoch [2/10], Step [500/9575], Loss [3.6084]\n",
            "Epoch [2/10], Step [1000/9575], Loss [3.7776]\n",
            "Epoch [2/10], Step [1500/9575], Loss [3.8534]\n",
            "Epoch [2/10], Step [2000/9575], Loss [3.6542]\n",
            "Epoch [2/10], Step [2500/9575], Loss [2.7618]\n",
            "Epoch [2/10], Step [3000/9575], Loss [4.4269]\n",
            "Epoch [2/10], Step [3500/9575], Loss [3.2041]\n",
            "Epoch [2/10], Step [4000/9575], Loss [3.4996]\n",
            "Epoch [2/10], Step [4500/9575], Loss [3.8035]\n",
            "Epoch [2/10], Step [5000/9575], Loss [3.8442]\n",
            "Epoch [2/10], Step [5500/9575], Loss [3.7246]\n",
            "Epoch [2/10], Step [6000/9575], Loss [4.5751]\n",
            "Epoch [2/10], Step [6500/9575], Loss [3.7401]\n",
            "Epoch [2/10], Step [7000/9575], Loss [3.1701]\n",
            "Epoch [2/10], Step [7500/9575], Loss [3.6435]\n",
            "Epoch [2/10], Step [8000/9575], Loss [3.6153]\n",
            "Epoch [2/10], Step [8500/9575], Loss [3.5621]\n",
            "Epoch [2/10], Step [9000/9575], Loss [3.1311]\n",
            "Epoch [2/10], Step [9500/9575], Loss [2.6268]\n",
            "Testing on validation set at the end of epoch 2\n",
            "Epoch: [2/10]... Val Loss: [3.8044]\n",
            "Time for epoch 2 is 61.66 sec\n",
            "Validation loss decreased (3.9754 --> 3.8044).  Saving model ...\n",
            "Epoch [3/10], Step [500/9575], Loss [2.9445]\n",
            "Epoch [3/10], Step [1000/9575], Loss [4.1197]\n",
            "Epoch [3/10], Step [1500/9575], Loss [3.7866]\n",
            "Epoch [3/10], Step [2000/9575], Loss [2.6811]\n",
            "Epoch [3/10], Step [2500/9575], Loss [3.2312]\n",
            "Epoch [3/10], Step [3000/9575], Loss [3.3497]\n",
            "Epoch [3/10], Step [3500/9575], Loss [2.8989]\n",
            "Epoch [3/10], Step [4000/9575], Loss [3.6099]\n",
            "Epoch [3/10], Step [4500/9575], Loss [2.9993]\n",
            "Epoch [3/10], Step [5000/9575], Loss [3.0197]\n",
            "Epoch [3/10], Step [5500/9575], Loss [2.5756]\n",
            "Epoch [3/10], Step [6000/9575], Loss [2.4199]\n",
            "Epoch [3/10], Step [6500/9575], Loss [4.4235]\n",
            "Epoch [3/10], Step [7000/9575], Loss [3.5963]\n",
            "Epoch [3/10], Step [7500/9575], Loss [3.7370]\n",
            "Epoch [3/10], Step [8000/9575], Loss [3.8519]\n",
            "Epoch [3/10], Step [8500/9575], Loss [3.3630]\n",
            "Epoch [3/10], Step [9000/9575], Loss [3.5268]\n",
            "Epoch [3/10], Step [9500/9575], Loss [4.2073]\n",
            "Testing on validation set at the end of epoch 3\n",
            "Epoch: [3/10]... Val Loss: [3.7766]\n",
            "Time for epoch 3 is 61.12 sec\n",
            "Validation loss decreased (3.8044 --> 3.7766).  Saving model ...\n",
            "Epoch [4/10], Step [500/9575], Loss [3.6112]\n",
            "Epoch [4/10], Step [1000/9575], Loss [3.8619]\n",
            "Epoch [4/10], Step [1500/9575], Loss [2.8546]\n",
            "Epoch [4/10], Step [2000/9575], Loss [3.0361]\n",
            "Epoch [4/10], Step [2500/9575], Loss [3.0797]\n",
            "Epoch [4/10], Step [3000/9575], Loss [3.2096]\n",
            "Epoch [4/10], Step [3500/9575], Loss [3.5264]\n",
            "Epoch [4/10], Step [4000/9575], Loss [2.9969]\n",
            "Epoch [4/10], Step [4500/9575], Loss [2.6688]\n",
            "Epoch [4/10], Step [5000/9575], Loss [3.1875]\n",
            "Epoch [4/10], Step [5500/9575], Loss [3.3383]\n",
            "Epoch [4/10], Step [6000/9575], Loss [3.1465]\n",
            "Epoch [4/10], Step [6500/9575], Loss [2.6882]\n",
            "Epoch [4/10], Step [7000/9575], Loss [3.1110]\n",
            "Epoch [4/10], Step [7500/9575], Loss [2.8882]\n",
            "Epoch [4/10], Step [8000/9575], Loss [4.0105]\n",
            "Epoch [4/10], Step [8500/9575], Loss [3.1925]\n",
            "Epoch [4/10], Step [9000/9575], Loss [3.4547]\n",
            "Epoch [4/10], Step [9500/9575], Loss [2.4064]\n",
            "Testing on validation set at the end of epoch 4\n",
            "Epoch: [4/10]... Val Loss: [3.7827]\n",
            "Time for epoch 4 is 60.63 sec\n",
            "Epoch [5/10], Step [500/9575], Loss [2.4329]\n",
            "Epoch [5/10], Step [1000/9575], Loss [2.8180]\n",
            "Epoch [5/10], Step [1500/9575], Loss [3.2145]\n",
            "Epoch [5/10], Step [2000/9575], Loss [2.6706]\n",
            "Epoch [5/10], Step [2500/9575], Loss [2.5206]\n",
            "Epoch [5/10], Step [3000/9575], Loss [2.5487]\n",
            "Epoch [5/10], Step [3500/9575], Loss [3.5778]\n",
            "Epoch [5/10], Step [4000/9575], Loss [2.8634]\n",
            "Epoch [5/10], Step [4500/9575], Loss [3.9610]\n",
            "Epoch [5/10], Step [5000/9575], Loss [2.6725]\n",
            "Epoch [5/10], Step [5500/9575], Loss [2.9861]\n",
            "Epoch [5/10], Step [6000/9575], Loss [2.7321]\n",
            "Epoch [5/10], Step [6500/9575], Loss [3.5296]\n",
            "Epoch [5/10], Step [7000/9575], Loss [2.9232]\n",
            "Epoch [5/10], Step [7500/9575], Loss [3.1398]\n",
            "Epoch [5/10], Step [8000/9575], Loss [2.6025]\n",
            "Epoch [5/10], Step [8500/9575], Loss [3.7203]\n",
            "Epoch [5/10], Step [9000/9575], Loss [3.2283]\n",
            "Epoch [5/10], Step [9500/9575], Loss [3.5644]\n",
            "Testing on validation set at the end of epoch 5\n",
            "Epoch: [5/10]... Val Loss: [3.8108]\n",
            "Time for epoch 5 is 59.95 sec\n",
            "Epoch [6/10], Step [500/9575], Loss [2.5007]\n",
            "Epoch [6/10], Step [1000/9575], Loss [3.1041]\n",
            "Epoch [6/10], Step [1500/9575], Loss [2.6759]\n",
            "Epoch [6/10], Step [2000/9575], Loss [2.6887]\n",
            "Epoch [6/10], Step [2500/9575], Loss [2.4186]\n",
            "Epoch [6/10], Step [3000/9575], Loss [3.2332]\n",
            "Epoch [6/10], Step [3500/9575], Loss [2.6304]\n",
            "Epoch [6/10], Step [4000/9575], Loss [3.0784]\n",
            "Epoch [6/10], Step [4500/9575], Loss [2.6539]\n",
            "Epoch [6/10], Step [5000/9575], Loss [3.0994]\n",
            "Epoch [6/10], Step [5500/9575], Loss [3.2211]\n",
            "Epoch [6/10], Step [6000/9575], Loss [3.1494]\n",
            "Epoch [6/10], Step [6500/9575], Loss [3.3097]\n",
            "Epoch [6/10], Step [7000/9575], Loss [2.5883]\n",
            "Epoch [6/10], Step [7500/9575], Loss [3.2417]\n",
            "Epoch [6/10], Step [8000/9575], Loss [2.6308]\n",
            "Epoch [6/10], Step [8500/9575], Loss [2.2324]\n",
            "Epoch [6/10], Step [9000/9575], Loss [3.0185]\n",
            "Epoch [6/10], Step [9500/9575], Loss [2.7685]\n",
            "Testing on validation set at the end of epoch 6\n",
            "Epoch: [6/10]... Val Loss: [3.8632]\n",
            "Time for epoch 6 is 59.37 sec\n",
            "Epoch [7/10], Step [500/9575], Loss [1.9606]\n",
            "Epoch [7/10], Step [1000/9575], Loss [3.1798]\n",
            "Epoch [7/10], Step [1500/9575], Loss [2.8307]\n",
            "Epoch [7/10], Step [2000/9575], Loss [3.0185]\n",
            "Epoch [7/10], Step [2500/9575], Loss [2.7733]\n",
            "Epoch [7/10], Step [3000/9575], Loss [2.5487]\n",
            "Epoch [7/10], Step [3500/9575], Loss [2.8294]\n",
            "Epoch [7/10], Step [4000/9575], Loss [3.3282]\n",
            "Epoch [7/10], Step [4500/9575], Loss [2.9519]\n",
            "Epoch [7/10], Step [5000/9575], Loss [2.7479]\n",
            "Epoch [7/10], Step [5500/9575], Loss [2.3127]\n",
            "Epoch [7/10], Step [6000/9575], Loss [3.2866]\n",
            "Epoch [7/10], Step [6500/9575], Loss [2.9656]\n",
            "Epoch [7/10], Step [7000/9575], Loss [3.4310]\n",
            "Epoch [7/10], Step [7500/9575], Loss [3.2572]\n",
            "Epoch [7/10], Step [8000/9575], Loss [2.5855]\n",
            "Epoch [7/10], Step [8500/9575], Loss [3.7086]\n",
            "Epoch [7/10], Step [9000/9575], Loss [2.5132]\n",
            "Epoch [7/10], Step [9500/9575], Loss [1.9493]\n",
            "Testing on validation set at the end of epoch 7\n",
            "Epoch: [7/10]... Val Loss: [3.9073]\n",
            "Time for epoch 7 is 59.53 sec\n",
            "Epoch [8/10], Step [500/9575], Loss [2.5634]\n",
            "Epoch [8/10], Step [1000/9575], Loss [2.9899]\n",
            "Epoch [8/10], Step [1500/9575], Loss [2.8442]\n",
            "Epoch [8/10], Step [2000/9575], Loss [2.7242]\n",
            "Epoch [8/10], Step [2500/9575], Loss [2.8157]\n",
            "Epoch [8/10], Step [3000/9575], Loss [2.2050]\n",
            "Epoch [8/10], Step [3500/9575], Loss [2.8281]\n",
            "Epoch [8/10], Step [4000/9575], Loss [2.3750]\n",
            "Epoch [8/10], Step [4500/9575], Loss [3.0673]\n",
            "Epoch [8/10], Step [5000/9575], Loss [2.3617]\n",
            "Epoch [8/10], Step [5500/9575], Loss [3.0360]\n",
            "Epoch [8/10], Step [6000/9575], Loss [2.5884]\n",
            "Epoch [8/10], Step [6500/9575], Loss [3.4121]\n",
            "Epoch [8/10], Step [7000/9575], Loss [3.0002]\n",
            "Epoch [8/10], Step [7500/9575], Loss [2.8996]\n",
            "Epoch [8/10], Step [8000/9575], Loss [2.5881]\n",
            "Epoch [8/10], Step [8500/9575], Loss [2.7403]\n",
            "Epoch [8/10], Step [9000/9575], Loss [3.2292]\n",
            "Epoch [8/10], Step [9500/9575], Loss [3.0911]\n",
            "Testing on validation set at the end of epoch 8\n",
            "Epoch: [8/10]... Val Loss: [3.9097]\n",
            "Time for epoch 8 is 58.78 sec\n",
            "Epoch [9/10], Step [500/9575], Loss [2.8551]\n",
            "Epoch [9/10], Step [1000/9575], Loss [2.5285]\n",
            "Epoch [9/10], Step [1500/9575], Loss [2.3436]\n",
            "Epoch [9/10], Step [2000/9575], Loss [2.6230]\n",
            "Epoch [9/10], Step [2500/9575], Loss [2.2773]\n",
            "Epoch [9/10], Step [3000/9575], Loss [2.4345]\n",
            "Epoch [9/10], Step [3500/9575], Loss [2.7032]\n",
            "Epoch [9/10], Step [4000/9575], Loss [2.7017]\n",
            "Epoch [9/10], Step [4500/9575], Loss [2.8484]\n",
            "Epoch [9/10], Step [5000/9575], Loss [2.5074]\n",
            "Epoch [9/10], Step [5500/9575], Loss [2.5340]\n",
            "Epoch [9/10], Step [6000/9575], Loss [2.8395]\n",
            "Epoch [9/10], Step [6500/9575], Loss [3.0512]\n",
            "Epoch [9/10], Step [7000/9575], Loss [2.8662]\n",
            "Epoch [9/10], Step [7500/9575], Loss [3.2211]\n",
            "Epoch [9/10], Step [8000/9575], Loss [3.0105]\n",
            "Epoch [9/10], Step [8500/9575], Loss [2.1621]\n",
            "Epoch [9/10], Step [9000/9575], Loss [2.6654]\n",
            "Epoch [9/10], Step [9500/9575], Loss [2.9886]\n",
            "Testing on validation set at the end of epoch 9\n",
            "Epoch: [9/10]... Val Loss: [3.9450]\n",
            "Time for epoch 9 is 58.70 sec\n",
            "Epoch [10/10], Step [500/9575], Loss [2.2599]\n",
            "Epoch [10/10], Step [1000/9575], Loss [2.8196]\n",
            "Epoch [10/10], Step [1500/9575], Loss [2.7458]\n",
            "Epoch [10/10], Step [2000/9575], Loss [2.4810]\n",
            "Epoch [10/10], Step [2500/9575], Loss [3.1083]\n",
            "Epoch [10/10], Step [3000/9575], Loss [2.6461]\n",
            "Epoch [10/10], Step [3500/9575], Loss [2.9015]\n",
            "Epoch [10/10], Step [4000/9575], Loss [2.4984]\n",
            "Epoch [10/10], Step [4500/9575], Loss [2.2902]\n",
            "Epoch [10/10], Step [5000/9575], Loss [3.0189]\n",
            "Epoch [10/10], Step [5500/9575], Loss [2.9080]\n",
            "Epoch [10/10], Step [6000/9575], Loss [2.6496]\n",
            "Epoch [10/10], Step [6500/9575], Loss [2.4135]\n",
            "Epoch [10/10], Step [7000/9575], Loss [2.9044]\n",
            "Epoch [10/10], Step [7500/9575], Loss [2.9929]\n",
            "Epoch [10/10], Step [8000/9575], Loss [2.4444]\n",
            "Epoch [10/10], Step [8500/9575], Loss [3.0573]\n",
            "Epoch [10/10], Step [9000/9575], Loss [3.0458]\n",
            "Epoch [10/10], Step [9500/9575], Loss [3.1923]\n",
            "Testing on validation set at the end of epoch 10\n",
            "Epoch: [10/10]... Val Loss: [3.9978]\n",
            "Time for epoch 10 is 58.30 sec\n",
            "Total training time is 58.30 sec\n"
          ],
          "name": "stdout"
        }
      ]
    },
    {
      "cell_type": "code",
      "metadata": {
        "id": "Wfy4TtFC2HoW",
        "colab_type": "code",
        "colab": {}
      },
      "source": [
        "# GPU\n",
        "\n",
        "# Reload the models from last (best) checkpoint\n",
        "model.load_state_dict(torch.load('/content/gdrive/My Drive/Colab Notebooks/PyTorch/ImageCaptioning/model.ckpt'))"
      ],
      "execution_count": null,
      "outputs": []
    },
    {
      "cell_type": "code",
      "metadata": {
        "id": "uMZzAHPVDSRc",
        "colab_type": "code",
        "colab": {
          "base_uri": "https://localhost:8080/",
          "height": 34
        },
        "outputId": "62193069-e419-4edb-e742-c7302cb004ee"
      },
      "source": [
        "# CPU\n",
        "\n",
        "# Reload the models from last (best) checkpoint\n",
        "model.load_state_dict(torch.load('/content/gdrive/My Drive/Colab Notebooks/PyTorch/ImageCaptioning/model.ckpt', map_location=torch.device('cpu')))"
      ],
      "execution_count": null,
      "outputs": [
        {
          "output_type": "execute_result",
          "data": {
            "text/plain": [
              "<All keys matched successfully>"
            ]
          },
          "metadata": {
            "tags": []
          },
          "execution_count": 15
        }
      ]
    },
    {
      "cell_type": "markdown",
      "metadata": {
        "id": "4e5zBl1620ys",
        "colab_type": "text"
      },
      "source": [
        "The model was saved at the end of the epoch with the lowest loss value on the validation set.\n",
        "\n",
        "The model learns fast and quickly overfits the training dataset. MachineLearningMastery achieved the best score of 3.612 just at the end of epoch 2."
      ]
    },
    {
      "cell_type": "code",
      "metadata": {
        "id": "bYU_eNhB0VYQ",
        "colab_type": "code",
        "colab": {
          "base_uri": "https://localhost:8080/",
          "height": 34
        },
        "outputId": "d7cace50-a274-49df-a6c1-1a6cdbf14384"
      },
      "source": [
        "model.eval()\n",
        "val_losses = []\n",
        "for i, (ph, desc, out) in enumerate(val_loader):\n",
        "  ph = torch.cat([torch.reshape(val_features[elem][0], (1,-1)) for elem in ph], 0)\n",
        "  ph, desc, out = ph.to(device), desc.to(device), out.to(device)\n",
        "  pred = model(ph, desc)\n",
        "  val_loss = criterion(pred.float(), out.long())\n",
        "  val_losses.append(val_loss.item())\n",
        "print('Val Loss: [{:.4f}]'.format(np.mean(val_losses)))"
      ],
      "execution_count": null,
      "outputs": [
        {
          "output_type": "stream",
          "text": [
            "Val Loss: [3.7766]\n"
          ],
          "name": "stdout"
        }
      ]
    },
    {
      "cell_type": "markdown",
      "metadata": {
        "id": "s8kLcZy17CAm",
        "colab_type": "text"
      },
      "source": [
        "## Evaluate Model"
      ]
    },
    {
      "cell_type": "markdown",
      "metadata": {
        "id": "iC0QCDdq7HUJ",
        "colab_type": "text"
      },
      "source": [
        "We will evaluate a model by generating descriptions for all photos in the test dataset and evaluating those predictions with a standard cost function.\n",
        "\n",
        "First, we need to be able to generate a description for a photo using a trained model.\n",
        "\n",
        "This involves passing in the start description token _startseq_, generating one word, then calling the model recursively with generated words as input until the end of sequence token is reached _endseq_ or the maximum description length is reached.\n",
        "\n",
        "The function below _named generate_desc()_ implements this behavior and generates a textual description given a trained model, and a given prepared photo as input. It calls the function _word_for_id()_ in order to map an integer prediction back to a word."
      ]
    },
    {
      "cell_type": "code",
      "metadata": {
        "id": "2RpC5Zub7eOs",
        "colab_type": "code",
        "colab": {}
      },
      "source": [
        "# Map an integer to a word\n",
        "def word_for_id(integer, tokenizer):\n",
        "\tfor word, index in tokenizer.word_index.items():\n",
        "\t\tif index == integer:\n",
        "\t\t\treturn word\n",
        "\treturn None\n",
        "\n",
        "# Generate a description for an image\n",
        "def generate_desc(model, tokenizer, photo, max_length):\n",
        "\t# seed the generation process\n",
        "\tin_text = 'startseq'\n",
        "\t# iterate over the whole length of the sequence\n",
        "\tfor i in range(max_length):\n",
        "\t\t# integer encode input sequence\n",
        "\t\tsequence = tokenizer.texts_to_sequences([in_text])[0]\n",
        "\t\t# pad input\n",
        "\t\tsequence = pad_sequences([sequence], maxlen=max_length)\n",
        "\t\t# predict next word\n",
        "\t\tmodel.eval()\n",
        "\t\tyhat = nn.Softmax(dim=1)(model(torch.FloatTensor(photo), torch.FloatTensor(sequence)))\n",
        "\t\t# convert probability to integer\n",
        "\t\tyhat = torch.argmax(yhat, dim=1).item()\n",
        "\t\t# map integer to word\n",
        "\t\tword = word_for_id(yhat, tokenizer)\n",
        "\t\t# stop if we cannot map the word\n",
        "\t\tif word is None:\n",
        "\t\t\tbreak\n",
        "\t\t# append as input for generating the next word\n",
        "\t\tin_text += ' ' + word\n",
        "\t\t# stop if we predict the end of the sequence\n",
        "\t\tif word == 'endseq':\n",
        "\t\t\tbreak\n",
        "\treturn in_text"
      ],
      "execution_count": null,
      "outputs": []
    },
    {
      "cell_type": "markdown",
      "metadata": {
        "id": "v4xtRWxkACuJ",
        "colab_type": "text"
      },
      "source": [
        "We will generate predictions for all photos in the test dataset and in the train dataset.\n",
        "\n",
        "The function below named _evaluate_model()_ will evaluate a trained model against a given dataset of photo descriptions and photo features. The actual and predicted descriptions are collected and evaluated collectively using the corpus BLEU score that summarizes how close the generated text is to the expected text"
      ]
    },
    {
      "cell_type": "code",
      "metadata": {
        "id": "tc1HNuqRBEKn",
        "colab_type": "code",
        "colab": {}
      },
      "source": [
        "from nltk.translate.bleu_score import corpus_bleu"
      ],
      "execution_count": null,
      "outputs": []
    },
    {
      "cell_type": "code",
      "metadata": {
        "id": "4SJH7ys0AL31",
        "colab_type": "code",
        "colab": {}
      },
      "source": [
        "# Evaluate the skill of the model\n",
        "def evaluate_model(model, descriptions, photos, tokenizer, max_length):\n",
        "\tactual, predicted = list(), list()\n",
        "\t# step over the whole set\n",
        "\tfor key, desc_list in descriptions.items():\n",
        "\t\t# generate description\n",
        "\t\tyhat = generate_desc(model, tokenizer, photos[key], max_length)\n",
        "\t\t# store actual and predicted\n",
        "\t\treferences = [d.split() for d in desc_list]\n",
        "\t\tactual.append(references)\n",
        "\t\tpredicted.append(yhat.split())\n",
        "\t# calculate BLEU score\n",
        "\tprint('BLEU-1: %f' % corpus_bleu(actual, predicted, weights=(1.0, 0, 0, 0)))\n",
        "\tprint('BLEU-2: %f' % corpus_bleu(actual, predicted, weights=(0.5, 0.5, 0, 0)))\n",
        "\tprint('BLEU-3: %f' % corpus_bleu(actual, predicted, weights=(0.3, 0.3, 0.3, 0)))\n",
        "\tprint('BLEU-4: %f' % corpus_bleu(actual, predicted, weights=(0.25, 0.25, 0.25, 0.25)))"
      ],
      "execution_count": null,
      "outputs": []
    },
    {
      "cell_type": "markdown",
      "metadata": {
        "id": "f9orZ8clAYlC",
        "colab_type": "text"
      },
      "source": [
        "BLEU scores are used in text translation for evaluating translated text against one or more reference translations.\n",
        "\n",
        "Here, we compare each generated description against all of the reference descriptions for the photograph. We then calculate BLEU scores for 1, 2, 3 and 4 cumulative n-grams.\n",
        "\n",
        "The NLTK Python library implements the BLEU score calculation in the _corpus_bleu()_ function. A higher score close to 1.0 is better, a score closer to zero is worse."
      ]
    },
    {
      "cell_type": "code",
      "metadata": {
        "id": "dpcPGV1ABO2_",
        "colab_type": "code",
        "colab": {
          "base_uri": "https://localhost:8080/",
          "height": 86
        },
        "outputId": "08c2361f-6362-479e-ee93-192a64c472a2"
      },
      "source": [
        "# Evaluate model\n",
        "batch_size = 1 # we have to evaluate the model working with one photo at a time\n",
        "evaluate_model(model, val_descriptions, val_features, tokenizer, max_length)"
      ],
      "execution_count": null,
      "outputs": [
        {
          "output_type": "stream",
          "text": [
            "BLEU-1: 0.559846\n",
            "BLEU-2: 0.304948\n",
            "BLEU-3: 0.209712\n",
            "BLEU-4: 0.101447\n"
          ],
          "name": "stdout"
        }
      ]
    },
    {
      "cell_type": "markdown",
      "metadata": {
        "id": "-boj_HLxEkll",
        "colab_type": "text"
      },
      "source": [
        "## Generate New Captions"
      ]
    },
    {
      "cell_type": "markdown",
      "metadata": {
        "id": "NG6wq5GXF8Um",
        "colab_type": "text"
      },
      "source": [
        "Now let's generate a description for a new photograph.\n",
        "\n",
        "First we must extract the features of the photo by means of the modified VGG-16 model, which was used during data preparation.\n",
        "\n",
        "We will call the _extract_features()_ function used during data preparation, but adapted to work on a single photo."
      ]
    },
    {
      "cell_type": "code",
      "metadata": {
        "id": "baf_Cq0-GqSI",
        "colab_type": "code",
        "colab": {}
      },
      "source": [
        "def extract_features(filename):\n",
        "  vgg16.eval()\n",
        "  with torch.no_grad():\n",
        "    image = preprocess_image(filename)\n",
        "    return vgg16(image)"
      ],
      "execution_count": null,
      "outputs": []
    },
    {
      "cell_type": "code",
      "metadata": {
        "id": "JxNaZ6JOH9S-",
        "colab_type": "code",
        "colab": {}
      },
      "source": [
        "#!wget https://live.staticflickr.com/1146/1045709386_aef34eac89_w_d.jpg\n",
        "#!wget https://live.staticflickr.com/3117/2579419586_f473011177_w_d.jpg\n",
        "#!wget https://live.staticflickr.com/3252/2890899596_4d4aa09413_w_d.jpg\n",
        "#!wget https://live.staticflickr.com/3616/3701644734_afc8a34dd0_w_d.jpg\n",
        "#!wget https://live.staticflickr.com/5171/5491257149_0f8997c715_w_d.jpg\n",
        "#!wget https://live.staticflickr.com/5254/5582708527_94a330ca4b_w_d.jpg\n",
        "#!wget https://live.staticflickr.com/6015/5897839434_00eac41a6d_w_d.jpg\n",
        "!wget https://live.staticflickr.com/8430/7837618434_47cb2e9627_w_d.jpg\n",
        "#!wget https://live.staticflickr.com/8258/8666275620_b1156a39fd_w_d.jpg\n",
        "#!wget https://live.staticflickr.com/3921/14726617566_48f7acbb40_w_d.jpg\n",
        "#!wget https://live.staticflickr.com/8604/16592320210_3e3cac9b70_w_d.jpg\n",
        "#!wget https://live.staticflickr.com/694/23525925409_51a5018d3f_w_d.jpg\n",
        "#!wget https://live.staticflickr.com/2907/33057665363_563f800689_w_d.jpg\n",
        "#!wget https://live.staticflickr.com/4353/36754066270_b92f5c41a5_w_d.jp\n",
        "#!wget https://live.staticflickr.com/1926/45255426481_1570769439_w_d.jpg\n",
        "#!wget https://live.staticflickr.com/65535/48700396142_726898feb6_w_d.jpg\n",
        "#!wget https://live.staticflickr.com/65535/48764780601_4a74b451e6_w_d.jpg\n",
        "#!wget https://live.staticflickr.com/65535/49637521451_1dbd41414d_w_d.jpg"
      ],
      "execution_count": null,
      "outputs": []
    },
    {
      "cell_type": "code",
      "metadata": {
        "id": "-NaamWCNIgNc",
        "colab_type": "code",
        "colab": {
          "base_uri": "https://localhost:8080/",
          "height": 337
        },
        "outputId": "cdd005fa-2026-44c6-8b59-b3cfcda13bc8"
      },
      "source": [
        "filename = '/content/7837618434_47cb2e9627_w_d.jpg'\n",
        "im = Image.open(filename)\n",
        "im"
      ],
      "execution_count": null,
      "outputs": [
        {
          "output_type": "execute_result",
          "data": {
            "image/png": "[encoded data removed]",
            "text/plain": [
              "<PIL.JpegImagePlugin.JpegImageFile image mode=RGB size=400x320 at 0x7F2B5A52E1D0>"
            ]
          },
          "metadata": {
            "tags": []
          },
          "execution_count": 164
        }
      ]
    },
    {
      "cell_type": "code",
      "metadata": {
        "id": "J--gyCcRS2RC",
        "colab_type": "code",
        "colab": {
          "base_uri": "https://localhost:8080/",
          "height": 34
        },
        "outputId": "e5180146-3620-4094-9f8f-b94dce654e0d"
      },
      "source": [
        "photo = extract_features(filename)\n",
        "\n",
        "# Generate description\n",
        "batch_size = 1 # we have to evaluate the model working with one photo at a time\n",
        "description = generate_desc(model, tokenizer, photo, max_length)\n",
        "print(description[9:-7]) # get rid of 'startseq' and 'endseq' flags"
      ],
      "execution_count": null,
      "outputs": [
        {
          "output_type": "stream",
          "text": [
            "dog is running through the water\n"
          ],
          "name": "stdout"
        }
      ]
    }
  ]
}